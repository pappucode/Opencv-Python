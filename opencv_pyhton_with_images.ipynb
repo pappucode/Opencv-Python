{
 "cells": [
  {
   "cell_type": "code",
   "execution_count": 39,
   "id": "d33ac3e8",
   "metadata": {},
   "outputs": [],
   "source": [
    "# Import OpenCV\n",
    "import cv2\n",
    "import time\n",
    "import numpy as np"
   ]
  },
  {
   "cell_type": "markdown",
   "id": "a19f274f",
   "metadata": {},
   "source": [
    "###### Read the imagem"
   ]
  },
  {
   "cell_type": "code",
   "execution_count": 9,
   "id": "2996f94d",
   "metadata": {},
   "outputs": [],
   "source": [
    "img = cv2.imread('image1.jpg')"
   ]
  },
  {
   "cell_type": "code",
   "execution_count": 3,
   "id": "40ac291d",
   "metadata": {},
   "outputs": [
    {
     "data": {
      "text/plain": [
       "(720, 1280, 3)"
      ]
     },
     "execution_count": 3,
     "metadata": {},
     "output_type": "execute_result"
    }
   ],
   "source": [
    "img.shape"
   ]
  },
  {
   "cell_type": "code",
   "execution_count": 4,
   "id": "9cb99774",
   "metadata": {},
   "outputs": [],
   "source": [
    "cv2.imshow('Image', img)\n",
    "\n",
    "# Waitkey Display an Image for Specific Time. If provide 0 in as an argument the image will be displayed as long \n",
    "# as we want. The window will be closed after any key is pressed.\n",
    "cv2.waitKey(0) \n",
    "cv2.destroyAllWindows()"
   ]
  },
  {
   "cell_type": "code",
   "execution_count": 6,
   "id": "14697547",
   "metadata": {},
   "outputs": [
    {
     "name": "stdout",
     "output_type": "stream",
     "text": [
      "The window is closed after 3.0111401081085205\n"
     ]
    }
   ],
   "source": [
    "cv2.imshow('Image', img)\n",
    "# To display the image for 3 second we have t0 pass 3000 as argument. \n",
    "initial_time = time.time()\n",
    "cv2.waitKey(3000) \n",
    "final_time = time.time()\n",
    "print(\"The window is closed after\", final_time-initial_time)\n",
    "cv2.destroyAllWindows()"
   ]
  },
  {
   "cell_type": "code",
   "execution_count": 63,
   "id": "da1238d8",
   "metadata": {},
   "outputs": [],
   "source": [
    "cv2.imshow('Image', img)\n",
    "cv2.waitKey(0)\n",
    "cv2.destroyAllWindows()"
   ]
  },
  {
   "cell_type": "markdown",
   "id": "43766205",
   "metadata": {},
   "source": [
    "##### Image color changing \n"
   ]
  },
  {
   "cell_type": "code",
   "execution_count": 64,
   "id": "233cda83",
   "metadata": {},
   "outputs": [],
   "source": [
    "# Convert image to grayscale\n",
    "img_gray = cv2.cvtColor(img, cv2.COLOR_BGR2GRAY)\n",
    "cv2.imshow('Gray Image', img_gray)\n",
    "cv2.waitKey(0)\n",
    "cv2.destroyAllWindows()"
   ]
  },
  {
   "cell_type": "code",
   "execution_count": 65,
   "id": "2ab1ae69",
   "metadata": {},
   "outputs": [
    {
     "data": {
      "text/plain": [
       "((720, 1280, 3), (720, 1280))"
      ]
     },
     "execution_count": 65,
     "metadata": {},
     "output_type": "execute_result"
    }
   ],
   "source": [
    "# Difference between original image and grayscale image\n",
    "img.shape, img_gray.shape"
   ]
  },
  {
   "cell_type": "markdown",
   "id": "f68f8bb1",
   "metadata": {},
   "source": [
    "There is no color chanel in grayscale image"
   ]
  },
  {
   "cell_type": "markdown",
   "id": "61eaba71",
   "metadata": {},
   "source": [
    "###### Playing with rgb Images"
   ]
  },
  {
   "cell_type": "code",
   "execution_count": 66,
   "id": "4c676001",
   "metadata": {},
   "outputs": [],
   "source": [
    "# Indexing of RGB image\n",
    "# 0 Blue\n",
    "# 1 Green\n",
    "# 2 Red\n",
    "# Cobbinition of rgb image height:width:channel"
   ]
  },
  {
   "cell_type": "markdown",
   "id": "4ab9979f",
   "metadata": {},
   "source": [
    "<img style=\"float: left; width: 300px;\" src=\"color_mixer.png\">"
   ]
  },
  {
   "cell_type": "code",
   "execution_count": 73,
   "id": "b2bce509",
   "metadata": {},
   "outputs": [],
   "source": [
    "# if we assign zero on blue we will get yellow color image\n",
    "img = cv2.imread('image1.jpg')\n",
    "img[:, :, 0] = 0"
   ]
  },
  {
   "cell_type": "code",
   "execution_count": 75,
   "id": "1299d0a6",
   "metadata": {},
   "outputs": [],
   "source": [
    "# if we assign zero on green we will get megenta color image\n",
    "img = cv2.imread('image1.jpg')\n",
    "img[:, :, 1] = 0"
   ]
  },
  {
   "cell_type": "code",
   "execution_count": 77,
   "id": "6b35c6f3",
   "metadata": {},
   "outputs": [],
   "source": [
    "# if we assign zero on red we will get cyan color image\n",
    "img = cv2.imread('image1.jpg')\n",
    "img[:, :, 2] = 0"
   ]
  },
  {
   "cell_type": "code",
   "execution_count": 19,
   "id": "4e13e870",
   "metadata": {},
   "outputs": [],
   "source": [
    "cv2.imshow('Image', img)\n",
    "cv2.waitKey(0)\n",
    "cv2.destroyAllWindows()"
   ]
  },
  {
   "cell_type": "code",
   "execution_count": 114,
   "id": "26094db2",
   "metadata": {},
   "outputs": [],
   "source": [
    "img = cv2.imread('image1.jpg')"
   ]
  },
  {
   "cell_type": "code",
   "execution_count": 109,
   "id": "f511605c",
   "metadata": {},
   "outputs": [],
   "source": [
    "# Show the image of specific color\n",
    "img_blue = img[:, :, 0]"
   ]
  },
  {
   "cell_type": "code",
   "execution_count": 110,
   "id": "96714cb3",
   "metadata": {},
   "outputs": [],
   "source": [
    "img_green = img[:, :, 1]"
   ]
  },
  {
   "cell_type": "code",
   "execution_count": 111,
   "id": "ddcf602f",
   "metadata": {},
   "outputs": [],
   "source": [
    "img_red = img[:, :, 2]"
   ]
  },
  {
   "cell_type": "code",
   "execution_count": 112,
   "id": "5f4baa20",
   "metadata": {},
   "outputs": [],
   "source": [
    "combine_img = np.hstack((img_blue, img_green, img_red))"
   ]
  },
  {
   "cell_type": "code",
   "execution_count": 113,
   "id": "fac137d5",
   "metadata": {},
   "outputs": [],
   "source": [
    "cv2.imshow('Image', combine_img)\n",
    "slice\n",
    "cv2.waitKey(0)\n",
    "cv2.destroyAllWindows()"
   ]
  },
  {
   "cell_type": "code",
   "execution_count": 69,
   "id": "30da3e5b",
   "metadata": {},
   "outputs": [
    {
     "data": {
      "text/plain": [
       "(720, 3840)"
      ]
     },
     "execution_count": 69,
     "metadata": {},
     "output_type": "execute_result"
    }
   ],
   "source": [
    "combine_img.shape"
   ]
  },
  {
   "cell_type": "code",
   "execution_count": null,
   "id": "e0375eba",
   "metadata": {},
   "outputs": [],
   "source": []
  },
  {
   "cell_type": "code",
   "execution_count": null,
   "id": "7afb021d",
   "metadata": {},
   "outputs": [],
   "source": []
  },
  {
   "cell_type": "code",
   "execution_count": null,
   "id": "8b4ba045",
   "metadata": {},
   "outputs": [],
   "source": []
  },
  {
   "cell_type": "code",
   "execution_count": null,
   "id": "d92da4e7",
   "metadata": {},
   "outputs": [],
   "source": []
  },
  {
   "cell_type": "code",
   "execution_count": null,
   "id": "9c52505b",
   "metadata": {},
   "outputs": [],
   "source": []
  },
  {
   "cell_type": "code",
   "execution_count": null,
   "id": "0af28bcf",
   "metadata": {},
   "outputs": [],
   "source": []
  },
  {
   "cell_type": "code",
   "execution_count": null,
   "id": "48cefb06",
   "metadata": {},
   "outputs": [],
   "source": []
  },
  {
   "cell_type": "code",
   "execution_count": null,
   "id": "cb569327",
   "metadata": {},
   "outputs": [],
   "source": []
  },
  {
   "cell_type": "code",
   "execution_count": null,
   "id": "1a841042",
   "metadata": {},
   "outputs": [],
   "source": []
  },
  {
   "cell_type": "code",
   "execution_count": null,
   "id": "72c16e27",
   "metadata": {},
   "outputs": [],
   "source": []
  }
 ],
 "metadata": {
  "kernelspec": {
   "display_name": "Python 3",
   "language": "python",
   "name": "python3"
  },
  "language_info": {
   "codemirror_mode": {
    "name": "ipython",
    "version": 3
   },
   "file_extension": ".py",
   "mimetype": "text/x-python",
   "name": "python",
   "nbconvert_exporter": "python",
   "pygments_lexer": "ipython3",
   "version": "3.8.8"
  }
 },
 "nbformat": 4,
 "nbformat_minor": 5
}
