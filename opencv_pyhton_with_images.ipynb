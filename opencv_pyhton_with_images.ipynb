{
 "cells": [
  {
   "cell_type": "code",
   "execution_count": 2,
   "id": "d33ac3e8",
   "metadata": {},
   "outputs": [],
   "source": [
    "# Import OpenCV\n",
    "import cv2\n",
    "import time\n",
    "import numpy as np"
   ]
  },
  {
   "cell_type": "markdown",
   "id": "a19f274f",
   "metadata": {},
   "source": [
    "###### Read the imagem"
   ]
  },
  {
   "cell_type": "code",
   "execution_count": 3,
   "id": "2996f94d",
   "metadata": {},
   "outputs": [],
   "source": [
    "img = cv2.imread('image1.jpg')"
   ]
  },
  {
   "cell_type": "code",
   "execution_count": 4,
   "id": "40ac291d",
   "metadata": {},
   "outputs": [
    {
     "data": {
      "text/plain": [
       "(720, 1280, 3)"
      ]
     },
     "execution_count": 4,
     "metadata": {},
     "output_type": "execute_result"
    }
   ],
   "source": [
    "img.shape"
   ]
  },
  {
   "cell_type": "code",
   "execution_count": 4,
   "id": "cfe24537",
   "metadata": {},
   "outputs": [],
   "source": [
    "cv2.imshow('Image', img)\n",
    "\n",
    "# Waitkey Display an Image for Specific Time. If provide 0 as an argument the image will be displayed as long \n",
    "# as we want. The window will be closed after any key is pressed.\n",
    "cv2.waitKey(0) \n",
    "cv2.destroyAllWindows()"
   ]
  },
  {
   "cell_type": "code",
   "execution_count": 5,
   "id": "14697547",
   "metadata": {},
   "outputs": [
    {
     "name": "stdout",
     "output_type": "stream",
     "text": [
      "The window is closed after 1.232236623764038\n"
     ]
    }
   ],
   "source": [
    "cv2.imshow('Image', img)\n",
    "# To display the image for 3 second we have t0 pass 3000 as argument. \n",
    "initial_time = time.time()\n",
    "cv2.waitKey(3000) \n",
    "final_time = time.time()\n",
    "print(\"The window is closed after\", final_time-initial_time)\n",
    "cv2.destroyAllWindows()"
   ]
  },
  {
   "cell_type": "code",
   "execution_count": 6,
   "id": "da1238d8",
   "metadata": {},
   "outputs": [],
   "source": [
    "cv2.imshow('Image', img)\n",
    "cv2.waitKey(0)\n",
    "cv2.destroyAllWindows()"
   ]
  },
  {
   "cell_type": "markdown",
   "id": "43766205",
   "metadata": {},
   "source": [
    "##### Image color changing \n"
   ]
  },
  {
   "cell_type": "code",
   "execution_count": 7,
   "id": "233cda83",
   "metadata": {},
   "outputs": [],
   "source": [
    "# Convert image to grayscale\n",
    "img_gray = cv2.cvtColor(img, cv2.COLOR_BGR2GRAY)\n",
    "cv2.imshow('Gray Image', img_gray)\n",
    "cv2.waitKey(0)\n",
    "cv2.destroyAllWindows()"
   ]
  },
  {
   "cell_type": "code",
   "execution_count": 8,
   "id": "2ab1ae69",
   "metadata": {},
   "outputs": [
    {
     "data": {
      "text/plain": [
       "((720, 1280, 3), (720, 1280))"
      ]
     },
     "execution_count": 8,
     "metadata": {},
     "output_type": "execute_result"
    }
   ],
   "source": [
    "# Difference between original image and grayscale image\n",
    "img.shape, img_gray.shape"
   ]
  },
  {
   "cell_type": "markdown",
   "id": "f68f8bb1",
   "metadata": {},
   "source": [
    "There is no color chanel in grayscale image"
   ]
  },
  {
   "cell_type": "code",
   "execution_count": 50,
   "id": "5cc9daa7",
   "metadata": {},
   "outputs": [],
   "source": [
    "# Add alpha channel to image\n",
    "#the cv2.split() is a costly operation in terms of performance(time) \n",
    "b_channel, g_channel, r_channel = cv2.split(img)\n",
    "# np.ones = Return a new array of given shape and type, filled with ones\n",
    "alpha_channel = np.ones(b_channel.shape, dtype=b_channel.dtype) * 50 #creating a dummy alpha channel image.\n",
    "img_BGRA = cv2.merge((b_channel, g_channel, r_channel, alpha_channel))"
   ]
  },
  {
   "cell_type": "code",
   "execution_count": 58,
   "id": "1a4e50b5",
   "metadata": {},
   "outputs": [
    {
     "data": {
      "text/plain": [
       "dtype('uint8')"
      ]
     },
     "execution_count": 58,
     "metadata": {},
     "output_type": "execute_result"
    }
   ],
   "source": [
    "g_channel.dtype"
   ]
  },
  {
   "cell_type": "code",
   "execution_count": 62,
   "id": "aa8e5a84",
   "metadata": {},
   "outputs": [
    {
     "data": {
      "text/plain": [
       "(720, 1280, 4)"
      ]
     },
     "execution_count": 62,
     "metadata": {},
     "output_type": "execute_result"
    }
   ],
   "source": [
    "img_BGRA.shape"
   ]
  },
  {
   "cell_type": "code",
   "execution_count": 74,
   "id": "d90897c1",
   "metadata": {},
   "outputs": [],
   "source": [
    "cv2.imshow('Gray Image', img_BGRA)\n",
    "cv2.waitKey(0)\n",
    "cv2.destroyAllWindows()"
   ]
  },
  {
   "cell_type": "markdown",
   "id": "61eaba71",
   "metadata": {},
   "source": [
    "###### Playing with rgb Images"
   ]
  },
  {
   "cell_type": "code",
   "execution_count": 66,
   "id": "d0b621b1",
   "metadata": {},
   "outputs": [],
   "source": [
    "# Indexing of RGB image (opencv reads the images as BGR instead of RGB)\n",
    "# 0 Blue\n",
    "# 1 Green\n",
    "# 2 Red\n",
    "# Cobbinition of rgb image height:width:channel"
   ]
  },
  {
   "cell_type": "markdown",
   "id": "4ab9979f",
   "metadata": {},
   "source": [
    "<img style=\"float: left; width: 300px;\" src=\"color_mixer.png\">"
   ]
  },
  {
   "cell_type": "code",
   "execution_count": 12,
   "id": "b2bce509",
   "metadata": {},
   "outputs": [],
   "source": [
    "# if we assign zero on blue we will get yellow color image\n",
    "img = cv2.imread('image1.jpg')\n",
    "img[:, :, 0] = 0"
   ]
  },
  {
   "cell_type": "code",
   "execution_count": 13,
   "id": "1299d0a6",
   "metadata": {},
   "outputs": [],
   "source": [
    "# if we assign zero on green we will get megenta color image\n",
    "img = cv2.imread('image1.jpg')\n",
    "img[:, :, 1] = 0"
   ]
  },
  {
   "cell_type": "code",
   "execution_count": 14,
   "id": "1577859f",
   "metadata": {},
   "outputs": [],
   "source": [
    "# if we assign zero on red we will get cyan color image\n",
    "img = cv2.imread('image1.jpg')\n",
    "img[:, :, 2] = 0"
   ]
  },
  {
   "cell_type": "code",
   "execution_count": 15,
   "id": "4e13e870",
   "metadata": {},
   "outputs": [],
   "source": [
    "cv2.imshow('Image', img)\n",
    "cv2.waitKey(0)\n",
    "cv2.destroyAllWindows()"
   ]
  },
  {
   "cell_type": "markdown",
   "id": "7cceaae6",
   "metadata": {},
   "source": [
    "##### Image resizing"
   ]
  },
  {
   "cell_type": "code",
   "execution_count": 37,
   "id": "593f6ef6",
   "metadata": {},
   "outputs": [],
   "source": [
    "# img.shape[0] = Height\n",
    "# img.shape[1] = width\n",
    "# img.shape[2] = dimension\n",
    "img = cv2.imread('image1.jpg')"
   ]
  },
  {
   "cell_type": "markdown",
   "id": "83909efe",
   "metadata": {},
   "source": [
    "###### Resized by preserving aspect ratio"
   ]
  },
  {
   "cell_type": "code",
   "execution_count": 38,
   "id": "7648d454",
   "metadata": {},
   "outputs": [
    {
     "name": "stdout",
     "output_type": "stream",
     "text": [
      "Original Dimension of the image:  (720, 1280, 3)\n",
      "Resized dimension of the image:  (360, 640, 3)\n"
     ]
    }
   ],
   "source": [
    "# Downscale with resize\n",
    "print(\"Original Dimension of the image: \", img.shape)\n",
    "\n",
    "scale_percentage = 50\n",
    "width = img.shape[1] * scale_percentage // 100\n",
    "height = img.shape[0] * scale_percentage // 100\n",
    "resized_img = cv2.resize(img, (width, height), interpolation = cv2.INTER_AREA)\n",
    "print(\"Resized dimension of the image: \", resized_img.shape)\n",
    "\n",
    "cv2.imshow(\"Resized Image by preserving aspect ratio\", resized_img)\n",
    "cv2.waitKey(0)\n",
    "cv2.destroyAllWindows()"
   ]
  },
  {
   "cell_type": "code",
   "execution_count": 39,
   "id": "df3e8f10",
   "metadata": {},
   "outputs": [
    {
     "name": "stdout",
     "output_type": "stream",
     "text": [
      "Original Dimension of the image:  (720, 1280, 3)\n",
      "Resized dimension of the image:  (1080, 1920, 3)\n"
     ]
    }
   ],
   "source": [
    "# Upscale with resize\n",
    "print (\"Original Dimension of the image: \", img.shape)\n",
    "scale_percentage = 150\n",
    "width = img.shape[1] * scale_percentage // 100\n",
    "height = img.shape[0] * scale_percentage // 100\n",
    "resized_img = cv2.resize(img, (width, height), interpolation = cv2.INTER_AREA)\n",
    "print(\"Resized dimension of the image: \", resized_img.shape)\n",
    "\n",
    "cv2.imshow(\"Resized Image by preserving aspect ratio\", resized_img)\n",
    "cv2.waitKey(0)\n",
    "cv2.destroyAllWindows()"
   ]
  },
  {
   "cell_type": "markdown",
   "id": "4dc6d590",
   "metadata": {},
   "source": [
    "##### Resized without preserving aspect ratio"
   ]
  },
  {
   "cell_type": "code",
   "execution_count": 40,
   "id": "5269c690",
   "metadata": {},
   "outputs": [
    {
     "name": "stdout",
     "output_type": "stream",
     "text": [
      "Original dimension of the image:  (720, 1280, 3)\n",
      "Resized dimension of the image (720, 850, 3)\n"
     ]
    }
   ],
   "source": [
    "# Resize image by width\n",
    "print(\"Original dimension of the image: \", img.shape)\n",
    "width = 850\n",
    "height = img.shape[0] # Keep original height\n",
    "resized_img = cv2.resize(img, (width, height), interpolation = cv2.INTER_AREA)\n",
    "print(\"Resized dimension of the image\", resized_img.shape)\n",
    "cv2.imshow(\"Resized by width\", resized_img)\n",
    "cv2.waitKey(0)\n",
    "cv2.destroyAllWindows()\n"
   ]
  },
  {
   "cell_type": "code",
   "execution_count": 41,
   "id": "a6223ed8",
   "metadata": {},
   "outputs": [
    {
     "name": "stdout",
     "output_type": "stream",
     "text": [
      "Original dimension of the image:  (720, 1280, 3)\n",
      "Resized dimenstion of the image:  (432, 1280, 3)\n"
     ]
    }
   ],
   "source": [
    "# Resized image by height\n",
    "print(\"Original dimension of the image: \", img.shape)\n",
    "scale_percentage = 60\n",
    "width = img.shape[1] # Keep original width\n",
    "height = img.shape[0] * scale_percentage // 100\n",
    "\n",
    "resized_img = cv2.resize(img, (width, height), interpolation = cv2.INTER_AREA)\n",
    "print(\"Resized dimenstion of the image: \", resized_img.shape)\n",
    "cv2.imshow(\"Image resized by height\", resized_img)\n",
    "cv2.waitKey(0)\n",
    "cv2.destroyAllWindows()"
   ]
  },
  {
   "cell_type": "code",
   "execution_count": 42,
   "id": "bbd439d3",
   "metadata": {},
   "outputs": [
    {
     "name": "stdout",
     "output_type": "stream",
     "text": [
      "Original dimenstion of the image:  (720, 1280, 3)\n",
      "Resized dimenstion of the image:  (400, 400, 3)\n"
     ]
    }
   ],
   "source": [
    "# Resize to specific width and height\n",
    "print(\"Original dimenstion of the image: \", img.shape)\n",
    "resized_img = cv2.resize(img, (400, 400), interpolation = cv2.INTER_AREA)\n",
    "print(\"Resized dimenstion of the image: \", resized_img.shape)\n",
    "cv2.imshow('Resized Image', resized_img)\n",
    "cv2.waitKey(0)\n",
    "cv2.destroyAllWindows()"
   ]
  },
  {
   "cell_type": "code",
   "execution_count": 46,
   "id": "228f4dae",
   "metadata": {},
   "outputs": [],
   "source": [
    "# Show the image of specific color with resized image\n",
    "#the cv2.split() is a costly operation in terms of performance(time) \n",
    "img_blue = resized_img[:, :, 0]\n",
    "img_green = resized_img[:, :, 1]\n",
    "img_red = resized_img[:, :, 2]\n",
    "img_combine = np.hstack((img_blue, img_green, img_red))\n",
    "\n",
    "#b_channel, g_channel, r_channel = cv2.split(resized_img)\n",
    "#img_combine = np.hstack((b_channel, g_channel, r_channel))"
   ]
  },
  {
   "cell_type": "code",
   "execution_count": 47,
   "id": "c2b1200f",
   "metadata": {},
   "outputs": [],
   "source": [
    "cv2.imshow(\"Combined Image\", img_combine)\n",
    "cv2.waitKey(0)\n",
    "cv2.destroyAllWindows()"
   ]
  },
  {
   "cell_type": "code",
   "execution_count": 48,
   "id": "12714bf6",
   "metadata": {},
   "outputs": [
    {
     "data": {
      "text/plain": [
       "True"
      ]
     },
     "execution_count": 48,
     "metadata": {},
     "output_type": "execute_result"
    }
   ],
   "source": [
    "# Save the image\n",
    "cv2.imwrite(\"combined_image.jpg\", img_combine)"
   ]
  },
  {
   "cell_type": "code",
   "execution_count": 49,
   "id": "3e28f569",
   "metadata": {},
   "outputs": [],
   "source": [
    "# Now resize the image to half\n",
    "half_resize_img = cv2.resize(img, (img.shape[1]//2, img.shape[0]//2))"
   ]
  },
  {
   "cell_type": "code",
   "execution_count": 50,
   "id": "f745e616",
   "metadata": {},
   "outputs": [],
   "source": [
    "cv2.imshow(\"Half sized Image\", half_resize_img)\n",
    "cv2.waitKey(0)\n",
    "cv2.destroyAllWindows()"
   ]
  },
  {
   "cell_type": "code",
   "execution_count": null,
   "id": "7d61a9e6",
   "metadata": {},
   "outputs": [],
   "source": []
  },
  {
   "cell_type": "code",
   "execution_count": null,
   "id": "724abcc5",
   "metadata": {},
   "outputs": [],
   "source": []
  },
  {
   "cell_type": "code",
   "execution_count": null,
   "id": "04550221",
   "metadata": {},
   "outputs": [],
   "source": []
  },
  {
   "cell_type": "code",
   "execution_count": null,
   "id": "e3fb591f",
   "metadata": {},
   "outputs": [],
   "source": []
  },
  {
   "cell_type": "code",
   "execution_count": null,
   "id": "c1f2c42a",
   "metadata": {},
   "outputs": [],
   "source": []
  },
  {
   "cell_type": "code",
   "execution_count": null,
   "id": "ab800033",
   "metadata": {},
   "outputs": [],
   "source": []
  },
  {
   "cell_type": "code",
   "execution_count": null,
   "id": "ddf7ba87",
   "metadata": {},
   "outputs": [],
   "source": []
  },
  {
   "cell_type": "code",
   "execution_count": 130,
   "id": "fdf8afff",
   "metadata": {},
   "outputs": [],
   "source": [
    "img1 = cv2.imread('color_mixer.PNG', cv2.IMREAD_UNCHANGED)"
   ]
  },
  {
   "cell_type": "code",
   "execution_count": 131,
   "id": "acd127bb",
   "metadata": {},
   "outputs": [
    {
     "data": {
      "text/plain": [
       "(411, 444, 4)"
      ]
     },
     "execution_count": 131,
     "metadata": {},
     "output_type": "execute_result"
    }
   ],
   "source": [
    "img1.shape"
   ]
  },
  {
   "cell_type": "code",
   "execution_count": null,
   "id": "5a7e8d7c",
   "metadata": {},
   "outputs": [],
   "source": []
  },
  {
   "cell_type": "code",
   "execution_count": null,
   "id": "16a1b1ce",
   "metadata": {},
   "outputs": [],
   "source": []
  },
  {
   "cell_type": "code",
   "execution_count": null,
   "id": "ada576a0",
   "metadata": {},
   "outputs": [],
   "source": []
  },
  {
   "cell_type": "code",
   "execution_count": null,
   "id": "1f7f1c94",
   "metadata": {},
   "outputs": [],
   "source": []
  },
  {
   "cell_type": "code",
   "execution_count": null,
   "id": "5041dbe4",
   "metadata": {},
   "outputs": [],
   "source": []
  },
  {
   "cell_type": "code",
   "execution_count": null,
   "id": "e1d6310a",
   "metadata": {},
   "outputs": [],
   "source": []
  }
 ],
 "metadata": {
  "kernelspec": {
   "display_name": "Python 3",
   "language": "python",
   "name": "python3"
  },
  "language_info": {
   "codemirror_mode": {
    "name": "ipython",
    "version": 3
   },
   "file_extension": ".py",
   "mimetype": "text/x-python",
   "name": "python",
   "nbconvert_exporter": "python",
   "pygments_lexer": "ipython3",
   "version": "3.8.8"
  }
 },
 "nbformat": 4,
 "nbformat_minor": 5
}
