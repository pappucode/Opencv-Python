{
 "cells": [
  {
   "cell_type": "code",
   "execution_count": 58,
   "id": "d33ac3e8",
   "metadata": {},
   "outputs": [],
   "source": [
    "# Import OpenCV\n",
    "import cv2\n",
    "import time\n",
    "import numpy as np"
   ]
  },
  {
   "cell_type": "markdown",
   "id": "a19f274f",
   "metadata": {},
   "source": [
    "###### Read the image"
   ]
  },
  {
   "cell_type": "code",
   "execution_count": 59,
   "id": "2996f94d",
   "metadata": {},
   "outputs": [],
   "source": [
    "img = cv2.imread('image1.jpg')"
   ]
  },
  {
   "cell_type": "code",
   "execution_count": 3,
   "id": "40ac291d",
   "metadata": {},
   "outputs": [
    {
     "data": {
      "text/plain": [
       "(720, 1280, 3)"
      ]
     },
     "execution_count": 3,
     "metadata": {},
     "output_type": "execute_result"
    }
   ],
   "source": [
    "img.shape"
   ]
  },
  {
   "cell_type": "code",
   "execution_count": 60,
   "id": "0389e93a",
   "metadata": {},
   "outputs": [],
   "source": [
    "cv2.imshow('Image', img)\n",
    "\n",
    "# Waitkey Display an Image for Specific Time. If provide 0 as an argument the image will be displayed as long \n",
    "# as we want. The window will be closed after any key is pressed.\n",
    "cv2.waitKey(0) \n",
    "cv2.destroyAllWindows()"
   ]
  },
  {
   "cell_type": "code",
   "execution_count": 61,
   "id": "14697547",
   "metadata": {},
   "outputs": [
    {
     "name": "stdout",
     "output_type": "stream",
     "text": [
      "The window is closed after 3.0078563690185547\n"
     ]
    }
   ],
   "source": [
    "cv2.imshow('Image', img)\n",
    "# To display the image for 3 second we have t0 pass 3000 as argument. \n",
    "initial_time = time.time()\n",
    "cv2.waitKey(3000) \n",
    "final_time = time.time()\n",
    "print(\"The window is closed after\", final_time-initial_time)\n",
    "cv2.destroyAllWindows()"
   ]
  },
  {
   "cell_type": "code",
   "execution_count": 62,
   "id": "da1238d8",
   "metadata": {},
   "outputs": [],
   "source": [
    "cv2.imshow('Image', img)\n",
    "cv2.waitKey(0)\n",
    "cv2.destroyAllWindows()"
   ]
  },
  {
   "cell_type": "code",
   "execution_count": 63,
   "id": "0b9affb0",
   "metadata": {},
   "outputs": [],
   "source": [
    "# waitkey extention (Exit image by specific key )\n",
    "while True:\n",
    "    cv2.imshow(\"Image\", img)\n",
    "    if cv2.waitKey(1) & 0xFF == ord('a'):\n",
    "        break\n",
    "cv2.destroyAllWindows()"
   ]
  },
  {
   "cell_type": "markdown",
   "id": "43766205",
   "metadata": {},
   "source": [
    "##### Image color changing \n"
   ]
  },
  {
   "cell_type": "code",
   "execution_count": 64,
   "id": "233cda83",
   "metadata": {},
   "outputs": [],
   "source": [
    "# Convert image to grayscale\n",
    "img_gray = cv2.cvtColor(img, cv2.COLOR_BGR2GRAY)\n",
    "cv2.imshow('Gray Image', img_gray)\n",
    "cv2.waitKey(0)\n",
    "cv2.destroyAllWindows()"
   ]
  },
  {
   "cell_type": "code",
   "execution_count": 65,
   "id": "2ab1ae69",
   "metadata": {},
   "outputs": [
    {
     "data": {
      "text/plain": [
       "((720, 1280, 3), (720, 1280))"
      ]
     },
     "execution_count": 65,
     "metadata": {},
     "output_type": "execute_result"
    }
   ],
   "source": [
    "# Difference between original image and grayscale image\n",
    "img.shape, img_gray.shape"
   ]
  },
  {
   "cell_type": "markdown",
   "id": "f68f8bb1",
   "metadata": {},
   "source": [
    "There is no color chanel in grayscale image"
   ]
  },
  {
   "cell_type": "code",
   "execution_count": 66,
   "id": "ca29bfd3",
   "metadata": {},
   "outputs": [],
   "source": [
    "# Add alpha channel to image\n",
    "#the cv2.split() is a costly operation in terms of performance(time) \n",
    "b_channel, g_channel, r_channel = cv2.split(img)\n",
    "# np.ones = Return a new array of given shape and type, filled with ones\n",
    "alpha_channel = np.ones(b_channel.shape, dtype=b_channel.dtype) * 50 #creating a dummy alpha channel image.\n",
    "img_BGRA = cv2.merge((b_channel, g_channel, r_channel, alpha_channel))"
   ]
  },
  {
   "cell_type": "code",
   "execution_count": 67,
   "id": "2532d58d",
   "metadata": {},
   "outputs": [
    {
     "data": {
      "text/plain": [
       "dtype('uint8')"
      ]
     },
     "execution_count": 67,
     "metadata": {},
     "output_type": "execute_result"
    }
   ],
   "source": [
    "g_channel.dtype"
   ]
  },
  {
   "cell_type": "code",
   "execution_count": 68,
   "id": "2886490c",
   "metadata": {},
   "outputs": [
    {
     "data": {
      "text/plain": [
       "(720, 1280, 4)"
      ]
     },
     "execution_count": 68,
     "metadata": {},
     "output_type": "execute_result"
    }
   ],
   "source": [
    "img_BGRA.shape"
   ]
  },
  {
   "cell_type": "code",
   "execution_count": 69,
   "id": "6b827e64",
   "metadata": {},
   "outputs": [],
   "source": [
    "cv2.imshow('Gray Image', img_BGRA)\n",
    "cv2.waitKey(0)\n",
    "cv2.destroyAllWindows()"
   ]
  },
  {
   "cell_type": "markdown",
   "id": "61eaba71",
   "metadata": {},
   "source": [
    "###### Playing with rgb Images"
   ]
  },
  {
   "cell_type": "code",
   "execution_count": 66,
   "id": "968ce7df",
   "metadata": {},
   "outputs": [],
   "source": [
    "# Indexing of RGB image (opencv reads the images as BGR instead of RGB)\n",
    "# 0 Blue\n",
    "# 1 Green\n",
    "# 2 Red\n",
    "# Cobbinition of rgb image height:width:channel"
   ]
  },
  {
   "cell_type": "markdown",
   "id": "4ab9979f",
   "metadata": {},
   "source": [
    "<img style=\"float: left; width: 300px;\" src=\"color_mixer.png\">"
   ]
  },
  {
   "cell_type": "code",
   "execution_count": 84,
   "id": "b2bce509",
   "metadata": {},
   "outputs": [],
   "source": [
    "# if we assign zero on blue we will get yellow color image\n",
    "img = cv2.imread('image1.jpg')\n",
    "img[:, :, 0] = 0"
   ]
  },
  {
   "cell_type": "code",
   "execution_count": 85,
   "id": "1299d0a6",
   "metadata": {},
   "outputs": [],
   "source": [
    "# if we assign zero on green we will get megenta color image\n",
    "img = cv2.imread('image1.jpg')\n",
    "img[:, :, 1] = 0"
   ]
  },
  {
   "cell_type": "code",
   "execution_count": 86,
   "id": "472e0a4c",
   "metadata": {},
   "outputs": [],
   "source": [
    "# if we assign zero on red we will get cyan color image\n",
    "img = cv2.imread('image1.jpg')\n",
    "img[:, :, 2] = 0"
   ]
  },
  {
   "cell_type": "code",
   "execution_count": 87,
   "id": "4e13e870",
   "metadata": {},
   "outputs": [],
   "source": [
    "cv2.imshow('Image', img)\n",
    "cv2.waitKey(0)\n",
    "cv2.destroyAllWindows()"
   ]
  },
  {
   "cell_type": "markdown",
   "id": "7bc521ed",
   "metadata": {},
   "source": [
    "##### Image resizing"
   ]
  },
  {
   "cell_type": "code",
   "execution_count": 88,
   "id": "77209e14",
   "metadata": {},
   "outputs": [],
   "source": [
    "# img.shape[0] = Height\n",
    "# img.shape[1] = width\n",
    "# img.shape[2] = dimension\n",
    "img = cv2.imread('image1.jpg')"
   ]
  },
  {
   "cell_type": "markdown",
   "id": "784cff96",
   "metadata": {},
   "source": [
    "###### Resized by preserving aspect ratio"
   ]
  },
  {
   "cell_type": "code",
   "execution_count": 90,
   "id": "7d3a6eac",
   "metadata": {},
   "outputs": [
    {
     "name": "stdout",
     "output_type": "stream",
     "text": [
      "Original Dimension of the image:  (720, 1280, 3)\n",
      "Resized dimension of the image:  (504, 896, 3)\n"
     ]
    }
   ],
   "source": [
    "# Downscale with resize\n",
    "print(\"Original Dimension of the image: \", img.shape)\n",
    "\n",
    "scale_percentage = 50\n",
    "width = img.shape[1] * scale_percentage // 100\n",
    "height = img.shape[0] * scale_percentage // 100\n",
    "resized_img = cv2.resize(img, (width, height), interpolation = cv2.INTER_AREA)\n",
    "print(\"Resized dimension of the image: \", resized_img.shape)\n",
    "\n",
    "cv2.imshow(\"Resized Image by preserving aspect ratio\", resized_img)\n",
    "cv2.waitKey(0)\n",
    "cv2.destroyAllWindows()"
   ]
  },
  {
   "cell_type": "code",
   "execution_count": 91,
   "id": "9e7b4f2c",
   "metadata": {},
   "outputs": [
    {
     "name": "stdout",
     "output_type": "stream",
     "text": [
      "Original Dimension of the image:  (720, 1280, 3)\n",
      "Resized dimension of the image:  (1080, 1920, 3)\n"
     ]
    }
   ],
   "source": [
    "# Upscale with resize\n",
    "print (\"Original Dimension of the image: \", img.shape)\n",
    "scale_percentage = 150\n",
    "width = img.shape[1] * scale_percentage // 100\n",
    "height = img.shape[0] * scale_percentage // 100\n",
    "resized_img = cv2.resize(img, (width, height), interpolation = cv2.INTER_AREA)\n",
    "print(\"Resized dimension of the image: \", resized_img.shape)\n",
    "\n",
    "cv2.imshow(\"Resized Image by preserving aspect ratio\", resized_img)\n",
    "cv2.waitKey(0)\n",
    "cv2.destroyAllWindows()"
   ]
  },
  {
   "cell_type": "markdown",
   "id": "2e27d643",
   "metadata": {},
   "source": [
    "##### Resized without preserving aspect ratio"
   ]
  },
  {
   "cell_type": "code",
   "execution_count": 92,
   "id": "80898dcf",
   "metadata": {},
   "outputs": [
    {
     "name": "stdout",
     "output_type": "stream",
     "text": [
      "Original dimension of the image:  (720, 1280, 3)\n",
      "Resized dimension of the image (720, 850, 3)\n"
     ]
    }
   ],
   "source": [
    "# Resize image by width\n",
    "print(\"Original dimension of the image: \", img.shape)\n",
    "width = 850\n",
    "height = img.shape[0] # Keep original height\n",
    "resized_img = cv2.resize(img, (width, height), interpolation = cv2.INTER_AREA)\n",
    "print(\"Resized dimension of the image\", resized_img.shape)\n",
    "cv2.imshow(\"Resized by width\", resized_img)\n",
    "cv2.waitKey(0)\n",
    "cv2.destroyAllWindows()\n"
   ]
  },
  {
   "cell_type": "code",
   "execution_count": 94,
   "id": "f939b7c7",
   "metadata": {},
   "outputs": [
    {
     "name": "stdout",
     "output_type": "stream",
     "text": [
      "Original dimension of the image:  (720, 1280, 3)\n",
      "Resized dimenstion of the image:  (432, 1280, 3)\n"
     ]
    }
   ],
   "source": [
    "# Resized image by height\n",
    "print(\"Original dimension of the image: \", img.shape)\n",
    "scale_percentage = 60\n",
    "width = img.shape[1] # Keep original width\n",
    "height = img.shape[0] * scale_percentage // 100\n",
    "\n",
    "resized_img = cv2.resize(img, (width, height), interpolation = cv2.INTER_AREA)\n",
    "print(\"Resized dimenstion of the image: \", resized_img.shape)\n",
    "cv2.imshow(\"Image resized by height\", resized_img)\n",
    "cv2.waitKey(0)\n",
    "cv2.destroyAllWindows()"
   ]
  },
  {
   "cell_type": "code",
   "execution_count": 95,
   "id": "7c8724c9",
   "metadata": {},
   "outputs": [
    {
     "name": "stdout",
     "output_type": "stream",
     "text": [
      "Original dimenstion of the image:  (720, 1280, 3)\n",
      "Resized dimenstion of the image:  (400, 400, 3)\n"
     ]
    }
   ],
   "source": [
    "# Resize to specific width and height\n",
    "print(\"Original dimenstion of the image: \", img.shape)\n",
    "resized_img = cv2.resize(img, (400, 400), interpolation = cv2.INTER_AREA)\n",
    "print(\"Resized dimenstion of the image: \", resized_img.shape)\n",
    "cv2.imshow('Resized Image', resized_img)\n",
    "cv2.waitKey(0)\n",
    "cv2.destroyAllWindows()"
   ]
  },
  {
   "cell_type": "code",
   "execution_count": 96,
   "id": "135321c5",
   "metadata": {},
   "outputs": [],
   "source": [
    "# Show the image of specific color with resized image\n",
    "#the cv2.split() is a costly operation in terms of performance(time) \n",
    "img_blue = resized_img[:, :, 0]\n",
    "img_green = resized_img[:, :, 1]\n",
    "img_red = resized_img[:, :, 2]\n",
    "img_combine = np.hstack((img_blue, img_green, img_red))\n",
    "\n",
    "#b_channel, g_channel, r_channel = cv2.split(resized_img)\n",
    "#img_combine = np.hstack((b_channel, g_channel, r_channel))"
   ]
  },
  {
   "cell_type": "code",
   "execution_count": 97,
   "id": "abe648f9",
   "metadata": {},
   "outputs": [],
   "source": [
    "cv2.imshow(\"Combined Image\", img_combine)\n",
    "cv2.waitKey(0)\n",
    "cv2.destroyAllWindows()"
   ]
  },
  {
   "cell_type": "code",
   "execution_count": 98,
   "id": "16559d64",
   "metadata": {},
   "outputs": [
    {
     "data": {
      "text/plain": [
       "True"
      ]
     },
     "execution_count": 98,
     "metadata": {},
     "output_type": "execute_result"
    }
   ],
   "source": [
    "# Save the image\n",
    "cv2.imwrite(\"combined_image.jpg\", img_combine)"
   ]
  },
  {
   "cell_type": "code",
   "execution_count": 99,
   "id": "46233bcf",
   "metadata": {},
   "outputs": [],
   "source": [
    "# Now resize the image to half\n",
    "half_resize_img = cv2.resize(img, (img.shape[1]//2, img.shape[0]//2))"
   ]
  },
  {
   "cell_type": "code",
   "execution_count": 102,
   "id": "68138053",
   "metadata": {},
   "outputs": [],
   "source": [
    "cv2.imshow(\"Half sized Image\", half_resize_img)\n",
    "cv2.waitKey(0)\n",
    "cv2.destroyAllWindows()"
   ]
  },
  {
   "cell_type": "markdown",
   "id": "8c3f92f6",
   "metadata": {},
   "source": [
    "###### Image flapping"
   ]
  },
  {
   "cell_type": "code",
   "execution_count": null,
   "id": "6cc7f293",
   "metadata": {},
   "outputs": [],
   "source": [
    "# flip code 0 = veritically flip\n",
    "# flip code 1 = Horizontally flip\n",
    "# flip code -1 = Both vertically and horizontally flip"
   ]
  },
  {
   "cell_type": "code",
   "execution_count": 103,
   "id": "e98036b3",
   "metadata": {},
   "outputs": [],
   "source": [
    "# Vertically flip\n",
    "vertical_flip_img = cv2.flip(half_resize_img, 0)\n",
    "cv2.imshow(\"Vertically flip image\", vertical_flip_img)\n",
    "cv2.waitKey(0)\n",
    "cv2.destroyAllWindows()"
   ]
  },
  {
   "cell_type": "code",
   "execution_count": 104,
   "id": "47fc008e",
   "metadata": {},
   "outputs": [],
   "source": [
    "# Horizontally flip\n",
    "horizontal_flip_img = cv2.flip(half_resize_img, 1)\n",
    "cv2.imshow(\"Horizontally flip image\", horizontal_flip_img)\n",
    "cv2.waitKey(0)\n",
    "cv2.destroyAllWindows()"
   ]
  },
  {
   "cell_type": "code",
   "execution_count": 105,
   "id": "b31cf9ad",
   "metadata": {},
   "outputs": [],
   "source": [
    "# Both Vertically and Horizontally Flip\n",
    "vertical_horizonatl_flip = cv2.flip(half_resize_img, -1)\n",
    "cv2.imshow(\"Both vertical and horizontal flip\", vertical_horizonatl_flip)\n",
    "cv2.waitKey(0)\n",
    "cv2.destroyAllWindows()"
   ]
  },
  {
   "cell_type": "markdown",
   "id": "1aa57d61",
   "metadata": {},
   "source": [
    "###### Image Croping"
   ]
  },
  {
   "cell_type": "code",
   "execution_count": 106,
   "id": "0ef5f453",
   "metadata": {},
   "outputs": [],
   "source": [
    "# img[y1:y2, x1:x2]\n",
    "img_crop = img[300:600, 900:1200]"
   ]
  },
  {
   "cell_type": "code",
   "execution_count": 107,
   "id": "c03c38ae",
   "metadata": {},
   "outputs": [],
   "source": [
    "cv2.imshow(\"Cropping Image\", img_crop)\n",
    "cv2.waitKey(0)\n",
    "cv2.destroyAllWindows()"
   ]
  },
  {
   "cell_type": "code",
   "execution_count": 108,
   "id": "29c5c4b6",
   "metadata": {},
   "outputs": [
    {
     "data": {
      "text/plain": [
       "(720, 1280, 3)"
      ]
     },
     "execution_count": 108,
     "metadata": {},
     "output_type": "execute_result"
    }
   ],
   "source": [
    "img.shape"
   ]
  },
  {
   "cell_type": "markdown",
   "id": "d4407dd7",
   "metadata": {},
   "source": [
    "###### Image Border\n",
    "* cv2.copyMakeBorder(src, border direction in pixel(top, bottom, left, right), borderType, value)\n",
    "* borderTypes (BORDER_CONSTANT, BORDER_REFLECT, BORDER_DEFAULT, BORDER_REPLICATE, BORDER_WRAP)\n",
    "* value argument only used with BORDER_CONSTANT as next argument. "
   ]
  },
  {
   "cell_type": "code",
   "execution_count": 112,
   "id": "3b4558cf",
   "metadata": {},
   "outputs": [],
   "source": [
    "img_border = cv2.copyMakeBorder(img_crop, 10, 10, 10, 10, cv2.BORDER_CONSTANT, value = (255, 0, 0))\n",
    "#img_border = cv2.copyMakeBorder(img_crop, 10, 10, 10, 10, cv2.BORDER_DEFAULT)\n",
    "\n",
    "cv2.imshow(\"Image with border\", img_border)\n",
    "cv2.waitKey(0)\n",
    "cv2.destroyAllWindows()"
   ]
  },
  {
   "cell_type": "code",
   "execution_count": null,
   "id": "eb3d92d0",
   "metadata": {},
   "outputs": [],
   "source": []
  },
  {
   "cell_type": "markdown",
   "id": "c4d6b995",
   "metadata": {},
   "source": [
    "##### Drawing Different shape on image"
   ]
  },
  {
   "cell_type": "code",
   "execution_count": 113,
   "id": "b275e337",
   "metadata": {},
   "outputs": [],
   "source": [
    "# Draw a ractangle\n",
    "img = cv2.imread(\"image1.jpg\")\n",
    "cv2.rectangle(img, pt1=(1010,320), pt2=(1180, 490), color=(255, 255, 234), thickness=2)\n",
    "cv2.imshow(\"Ractangle On Image\", img)\n",
    "cv2.waitKey(0)\n",
    "cv2.destroyAllWindows()"
   ]
  },
  {
   "cell_type": "code",
   "execution_count": 114,
   "id": "cee924a3",
   "metadata": {},
   "outputs": [],
   "source": [
    "# Draw a circle\n",
    "img = cv2.imread(\"image1.jpg\")\n",
    "cv2.circle(img, center=(190, 430), radius=80, color=(255, 255, 234), thickness=2)\n",
    "cv2.imshow(\"Circle on Image\", img)\n",
    "cv2.waitKey(0)\n",
    "cv2.destroyAllWindows()"
   ]
  },
  {
   "cell_type": "code",
   "execution_count": 115,
   "id": "b8ba7793",
   "metadata": {},
   "outputs": [],
   "source": [
    "# Draw a Line\n",
    "img = cv2.imread(\"image1.jpg\")\n",
    "cv2.line(img, pt1=(300, 200), pt2=(600, 450), color=(255, 255, 234), thickness=2)\n",
    "cv2.imshow(\"Line on Image\", img)\n",
    "cv2.waitKey(0)\n",
    "cv2.destroyAllWindows()"
   ]
  },
  {
   "cell_type": "markdown",
   "id": "8c9cf76c",
   "metadata": {},
   "source": [
    "###### text Insert on Image"
   ]
  },
  {
   "cell_type": "code",
   "execution_count": 116,
   "id": "637eefb8",
   "metadata": {},
   "outputs": [],
   "source": [
    "cv2.putText(img, text=\"Testing text\", org=(880, 510), fontFace = cv2.FONT_ITALIC, fontScale=2,\n",
    "            color=(255, 255, 234), lineType=cv2.LINE_AA )\n",
    "cv2.imshow(\"Text on Image\", img)\n",
    "cv2.waitKey(0)\n",
    "cv2.destroyAllWindows()"
   ]
  },
  {
   "cell_type": "code",
   "execution_count": null,
   "id": "08ef229b",
   "metadata": {},
   "outputs": [],
   "source": []
  },
  {
   "cell_type": "code",
   "execution_count": null,
   "id": "7b3c3a7d",
   "metadata": {},
   "outputs": [],
   "source": []
  },
  {
   "cell_type": "code",
   "execution_count": null,
   "id": "693a40ee",
   "metadata": {},
   "outputs": [],
   "source": []
  },
  {
   "cell_type": "code",
   "execution_count": 121,
   "id": "04a9e109",
   "metadata": {},
   "outputs": [],
   "source": [
    "img1 = cv2.imread('color_mixer.PNG', cv2.IMREAD_UNCHANGED)"
   ]
  },
  {
   "cell_type": "code",
   "execution_count": 120,
   "id": "7db9702c",
   "metadata": {},
   "outputs": [
    {
     "data": {
      "text/plain": [
       "(411, 444, 3)"
      ]
     },
     "execution_count": 120,
     "metadata": {},
     "output_type": "execute_result"
    }
   ],
   "source": [
    "img1.shape"
   ]
  },
  {
   "cell_type": "code",
   "execution_count": null,
   "id": "ea4fffa0",
   "metadata": {},
   "outputs": [],
   "source": []
  },
  {
   "cell_type": "code",
   "execution_count": null,
   "id": "80630af8",
   "metadata": {},
   "outputs": [],
   "source": []
  },
  {
   "cell_type": "code",
   "execution_count": null,
   "id": "bdf65dbd",
   "metadata": {},
   "outputs": [],
   "source": []
  },
  {
   "cell_type": "code",
   "execution_count": null,
   "id": "cff200f9",
   "metadata": {},
   "outputs": [],
   "source": []
  },
  {
   "cell_type": "code",
   "execution_count": null,
   "id": "3c20dd84",
   "metadata": {},
   "outputs": [],
   "source": []
  },
  {
   "cell_type": "code",
   "execution_count": null,
   "id": "5b0edb6c",
   "metadata": {},
   "outputs": [],
   "source": []
  }
 ],
 "metadata": {
  "kernelspec": {
   "display_name": "Python 3",
   "language": "python",
   "name": "python3"
  },
  "language_info": {
   "codemirror_mode": {
    "name": "ipython",
    "version": 3
   },
   "file_extension": ".py",
   "mimetype": "text/x-python",
   "name": "python",
   "nbconvert_exporter": "python",
   "pygments_lexer": "ipython3",
   "version": "3.8.8"
  }
 },
 "nbformat": 4,
 "nbformat_minor": 5
}
