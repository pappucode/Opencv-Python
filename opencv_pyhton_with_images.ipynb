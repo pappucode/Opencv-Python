{
 "cells": [
  {
   "cell_type": "code",
   "execution_count": 2,
   "id": "d33ac3e8",
   "metadata": {},
   "outputs": [],
   "source": [
    "# Import OpenCV\n",
    "import cv2\n",
    "import time\n",
    "import numpy as np"
   ]
  },
  {
   "cell_type": "markdown",
   "id": "a19f274f",
   "metadata": {},
   "source": [
    "###### Read the imagem"
   ]
  },
  {
   "cell_type": "code",
   "execution_count": 86,
   "id": "2996f94d",
   "metadata": {},
   "outputs": [],
   "source": [
    "img = cv2.imread('image1.jpg')"
   ]
  },
  {
   "cell_type": "code",
   "execution_count": 4,
   "id": "40ac291d",
   "metadata": {},
   "outputs": [
    {
     "data": {
      "text/plain": [
       "(720, 1280, 3)"
      ]
     },
     "execution_count": 4,
     "metadata": {},
     "output_type": "execute_result"
    }
   ],
   "source": [
    "img.shape"
   ]
  },
  {
   "cell_type": "code",
   "execution_count": 4,
   "id": "2e8df130",
   "metadata": {},
   "outputs": [],
   "source": [
    "cv2.imshow('Image', img)\n",
    "\n",
    "# Waitkey Display an Image for Specific Time. If provide 0 as an argument the image will be displayed as long \n",
    "# as we want. The window will be closed after any key is pressed.\n",
    "cv2.waitKey(0) \n",
    "cv2.destroyAllWindows()"
   ]
  },
  {
   "cell_type": "code",
   "execution_count": 5,
   "id": "14697547",
   "metadata": {},
   "outputs": [
    {
     "name": "stdout",
     "output_type": "stream",
     "text": [
      "The window is closed after 1.232236623764038\n"
     ]
    }
   ],
   "source": [
    "cv2.imshow('Image', img)\n",
    "# To display the image for 3 second we have t0 pass 3000 as argument. \n",
    "initial_time = time.time()\n",
    "cv2.waitKey(3000) \n",
    "final_time = time.time()\n",
    "print(\"The window is closed after\", final_time-initial_time)\n",
    "cv2.destroyAllWindows()"
   ]
  },
  {
   "cell_type": "code",
   "execution_count": 6,
   "id": "da1238d8",
   "metadata": {},
   "outputs": [],
   "source": [
    "cv2.imshow('Image', img)\n",
    "cv2.waitKey(0)\n",
    "cv2.destroyAllWindows()"
   ]
  },
  {
   "cell_type": "markdown",
   "id": "43766205",
   "metadata": {},
   "source": [
    "##### Image color changing \n"
   ]
  },
  {
   "cell_type": "code",
   "execution_count": 7,
   "id": "233cda83",
   "metadata": {},
   "outputs": [],
   "source": [
    "# Convert image to grayscale\n",
    "img_gray = cv2.cvtColor(img, cv2.COLOR_BGR2GRAY)\n",
    "cv2.imshow('Gray Image', img_gray)\n",
    "cv2.waitKey(0)\n",
    "cv2.destroyAllWindows()"
   ]
  },
  {
   "cell_type": "code",
   "execution_count": 8,
   "id": "2ab1ae69",
   "metadata": {},
   "outputs": [
    {
     "data": {
      "text/plain": [
       "((720, 1280, 3), (720, 1280))"
      ]
     },
     "execution_count": 8,
     "metadata": {},
     "output_type": "execute_result"
    }
   ],
   "source": [
    "# Difference between original image and grayscale image\n",
    "img.shape, img_gray.shape"
   ]
  },
  {
   "cell_type": "markdown",
   "id": "f68f8bb1",
   "metadata": {},
   "source": [
    "There is no color chanel in grayscale image"
   ]
  },
  {
   "cell_type": "code",
   "execution_count": 50,
   "id": "7033a771",
   "metadata": {},
   "outputs": [],
   "source": [
    "# Add alpha channel to image\n",
    "#the cv2.split() is a costly operation in terms of performance(time) \n",
    "b_channel, g_channel, r_channel = cv2.split(img)\n",
    "# np.ones = Return a new array of given shape and type, filled with ones\n",
    "alpha_channel = np.ones(b_channel.shape, dtype=b_channel.dtype) * 50 #creating a dummy alpha channel image.\n",
    "img_BGRA = cv2.merge((b_channel, g_channel, r_channel, alpha_channel))"
   ]
  },
  {
   "cell_type": "code",
   "execution_count": 58,
   "id": "bd0ad9d6",
   "metadata": {},
   "outputs": [
    {
     "data": {
      "text/plain": [
       "dtype('uint8')"
      ]
     },
     "execution_count": 58,
     "metadata": {},
     "output_type": "execute_result"
    }
   ],
   "source": [
    "g_channel.dtype"
   ]
  },
  {
   "cell_type": "code",
   "execution_count": 62,
   "id": "b886ac3a",
   "metadata": {},
   "outputs": [
    {
     "data": {
      "text/plain": [
       "(720, 1280, 4)"
      ]
     },
     "execution_count": 62,
     "metadata": {},
     "output_type": "execute_result"
    }
   ],
   "source": [
    "img_BGRA.shape"
   ]
  },
  {
   "cell_type": "code",
   "execution_count": 74,
   "id": "c54c4cfa",
   "metadata": {},
   "outputs": [],
   "source": [
    "cv2.imshow('Gray Image', img_BGRA)\n",
    "cv2.waitKey(0)\n",
    "cv2.destroyAllWindows()"
   ]
  },
  {
   "cell_type": "markdown",
   "id": "61eaba71",
   "metadata": {},
   "source": [
    "###### Playing with rgb Images"
   ]
  },
  {
   "cell_type": "code",
   "execution_count": 66,
   "id": "555c9cdd",
   "metadata": {},
   "outputs": [],
   "source": [
    "# Indexing of RGB image (opencv reads the images as BGR instead of RGB)\n",
    "# 0 Blue\n",
    "# 1 Green\n",
    "# 2 Red\n",
    "# Cobbinition of rgb image height:width:channel"
   ]
  },
  {
   "cell_type": "markdown",
   "id": "4ab9979f",
   "metadata": {},
   "source": [
    "<img style=\"float: left; width: 300px;\" src=\"color_mixer.png\">"
   ]
  },
  {
   "cell_type": "code",
   "execution_count": 12,
   "id": "b2bce509",
   "metadata": {},
   "outputs": [],
   "source": [
    "# if we assign zero on blue we will get yellow color image\n",
    "img = cv2.imread('image1.jpg')\n",
    "img[:, :, 0] = 0"
   ]
  },
  {
   "cell_type": "code",
   "execution_count": 13,
   "id": "1299d0a6",
   "metadata": {},
   "outputs": [],
   "source": [
    "# if we assign zero on green we will get megenta color image\n",
    "img = cv2.imread('image1.jpg')\n",
    "img[:, :, 1] = 0"
   ]
  },
  {
   "cell_type": "code",
   "execution_count": 14,
   "id": "70269db8",
   "metadata": {},
   "outputs": [],
   "source": [
    "# if we assign zero on red we will get cyan color image\n",
    "img = cv2.imread('image1.jpg')\n",
    "img[:, :, 2] = 0"
   ]
  },
  {
   "cell_type": "code",
   "execution_count": 15,
   "id": "4e13e870",
   "metadata": {},
   "outputs": [],
   "source": [
    "cv2.imshow('Image', img)\n",
    "cv2.waitKey(0)\n",
    "cv2.destroyAllWindows()"
   ]
  },
  {
   "cell_type": "markdown",
   "id": "91a0eb74",
   "metadata": {},
   "source": [
    "##### Image resizing"
   ]
  },
  {
   "cell_type": "code",
   "execution_count": 37,
   "id": "1580fefb",
   "metadata": {},
   "outputs": [],
   "source": [
    "# img.shape[0] = Height\n",
    "# img.shape[1] = width\n",
    "# img.shape[2] = dimension\n",
    "img = cv2.imread('image1.jpg')"
   ]
  },
  {
   "cell_type": "markdown",
   "id": "3f576b92",
   "metadata": {},
   "source": [
    "###### Resized by preserving aspect ratio"
   ]
  },
  {
   "cell_type": "code",
   "execution_count": 38,
   "id": "0d7d429d",
   "metadata": {},
   "outputs": [
    {
     "name": "stdout",
     "output_type": "stream",
     "text": [
      "Original Dimension of the image:  (720, 1280, 3)\n",
      "Resized dimension of the image:  (360, 640, 3)\n"
     ]
    }
   ],
   "source": [
    "# Downscale with resize\n",
    "print(\"Original Dimension of the image: \", img.shape)\n",
    "\n",
    "scale_percentage = 50\n",
    "width = img.shape[1] * scale_percentage // 100\n",
    "height = img.shape[0] * scale_percentage // 100\n",
    "resized_img = cv2.resize(img, (width, height), interpolation = cv2.INTER_AREA)\n",
    "print(\"Resized dimension of the image: \", resized_img.shape)\n",
    "\n",
    "cv2.imshow(\"Resized Image by preserving aspect ratio\", resized_img)\n",
    "cv2.waitKey(0)\n",
    "cv2.destroyAllWindows()"
   ]
  },
  {
   "cell_type": "code",
   "execution_count": 39,
   "id": "8a2de5d5",
   "metadata": {},
   "outputs": [
    {
     "name": "stdout",
     "output_type": "stream",
     "text": [
      "Original Dimension of the image:  (720, 1280, 3)\n",
      "Resized dimension of the image:  (1080, 1920, 3)\n"
     ]
    }
   ],
   "source": [
    "# Upscale with resize\n",
    "print (\"Original Dimension of the image: \", img.shape)\n",
    "scale_percentage = 150\n",
    "width = img.shape[1] * scale_percentage // 100\n",
    "height = img.shape[0] * scale_percentage // 100\n",
    "resized_img = cv2.resize(img, (width, height), interpolation = cv2.INTER_AREA)\n",
    "print(\"Resized dimension of the image: \", resized_img.shape)\n",
    "\n",
    "cv2.imshow(\"Resized Image by preserving aspect ratio\", resized_img)\n",
    "cv2.waitKey(0)\n",
    "cv2.destroyAllWindows()"
   ]
  },
  {
   "cell_type": "markdown",
   "id": "31a46ec3",
   "metadata": {},
   "source": [
    "##### Resized without preserving aspect ratio"
   ]
  },
  {
   "cell_type": "code",
   "execution_count": 40,
   "id": "e690a0c3",
   "metadata": {},
   "outputs": [
    {
     "name": "stdout",
     "output_type": "stream",
     "text": [
      "Original dimension of the image:  (720, 1280, 3)\n",
      "Resized dimension of the image (720, 850, 3)\n"
     ]
    }
   ],
   "source": [
    "# Resize image by width\n",
    "print(\"Original dimension of the image: \", img.shape)\n",
    "width = 850\n",
    "height = img.shape[0] # Keep original height\n",
    "resized_img = cv2.resize(img, (width, height), interpolation = cv2.INTER_AREA)\n",
    "print(\"Resized dimension of the image\", resized_img.shape)\n",
    "cv2.imshow(\"Resized by width\", resized_img)\n",
    "cv2.waitKey(0)\n",
    "cv2.destroyAllWindows()\n"
   ]
  },
  {
   "cell_type": "code",
   "execution_count": 41,
   "id": "a8d65047",
   "metadata": {},
   "outputs": [
    {
     "name": "stdout",
     "output_type": "stream",
     "text": [
      "Original dimension of the image:  (720, 1280, 3)\n",
      "Resized dimenstion of the image:  (432, 1280, 3)\n"
     ]
    }
   ],
   "source": [
    "# Resized image by height\n",
    "print(\"Original dimension of the image: \", img.shape)\n",
    "scale_percentage = 60\n",
    "width = img.shape[1] # Keep original width\n",
    "height = img.shape[0] * scale_percentage // 100\n",
    "\n",
    "resized_img = cv2.resize(img, (width, height), interpolation = cv2.INTER_AREA)\n",
    "print(\"Resized dimenstion of the image: \", resized_img.shape)\n",
    "cv2.imshow(\"Image resized by height\", resized_img)\n",
    "cv2.waitKey(0)\n",
    "cv2.destroyAllWindows()"
   ]
  },
  {
   "cell_type": "code",
   "execution_count": 42,
   "id": "cc45def0",
   "metadata": {},
   "outputs": [
    {
     "name": "stdout",
     "output_type": "stream",
     "text": [
      "Original dimenstion of the image:  (720, 1280, 3)\n",
      "Resized dimenstion of the image:  (400, 400, 3)\n"
     ]
    }
   ],
   "source": [
    "# Resize to specific width and height\n",
    "print(\"Original dimenstion of the image: \", img.shape)\n",
    "resized_img = cv2.resize(img, (400, 400), interpolation = cv2.INTER_AREA)\n",
    "print(\"Resized dimenstion of the image: \", resized_img.shape)\n",
    "cv2.imshow('Resized Image', resized_img)\n",
    "cv2.waitKey(0)\n",
    "cv2.destroyAllWindows()"
   ]
  },
  {
   "cell_type": "code",
   "execution_count": 46,
   "id": "1855f17c",
   "metadata": {},
   "outputs": [],
   "source": [
    "# Show the image of specific color with resized image\n",
    "#the cv2.split() is a costly operation in terms of performance(time) \n",
    "img_blue = resized_img[:, :, 0]\n",
    "img_green = resized_img[:, :, 1]\n",
    "img_red = resized_img[:, :, 2]\n",
    "img_combine = np.hstack((img_blue, img_green, img_red))\n",
    "\n",
    "#b_channel, g_channel, r_channel = cv2.split(resized_img)\n",
    "#img_combine = np.hstack((b_channel, g_channel, r_channel))"
   ]
  },
  {
   "cell_type": "code",
   "execution_count": 47,
   "id": "8766c428",
   "metadata": {},
   "outputs": [],
   "source": [
    "cv2.imshow(\"Combined Image\", img_combine)\n",
    "cv2.waitKey(0)\n",
    "cv2.destroyAllWindows()"
   ]
  },
  {
   "cell_type": "code",
   "execution_count": 48,
   "id": "13e0dca7",
   "metadata": {},
   "outputs": [
    {
     "data": {
      "text/plain": [
       "True"
      ]
     },
     "execution_count": 48,
     "metadata": {},
     "output_type": "execute_result"
    }
   ],
   "source": [
    "# Save the image\n",
    "cv2.imwrite(\"combined_image.jpg\", img_combine)"
   ]
  },
  {
   "cell_type": "code",
   "execution_count": 49,
   "id": "49784ce0",
   "metadata": {},
   "outputs": [],
   "source": [
    "# Now resize the image to half\n",
    "half_resize_img = cv2.resize(img, (img.shape[1]//2, img.shape[0]//2))"
   ]
  },
  {
   "cell_type": "code",
   "execution_count": 50,
   "id": "d159d076",
   "metadata": {},
   "outputs": [],
   "source": [
    "cv2.imshow(\"Half sized Image\", half_resize_img)\n",
    "cv2.waitKey(0)\n",
    "cv2.destroyAllWindows()"
   ]
  },
  {
   "cell_type": "markdown",
   "id": "2748c825",
   "metadata": {},
   "source": [
    "###### Image flapping"
   ]
  },
  {
   "cell_type": "code",
   "execution_count": null,
   "id": "b15ff60e",
   "metadata": {},
   "outputs": [],
   "source": [
    "# flip code 0 = veritically flip\n",
    "# flip code 1 = Horizontally flip\n",
    "# flip code -1 = Both vertically and horizontally flip"
   ]
  },
  {
   "cell_type": "code",
   "execution_count": 56,
   "id": "a48c49c8",
   "metadata": {},
   "outputs": [],
   "source": [
    "# Vertically flip\n",
    "vertical_flip_img = cv2.flip(half_resize_img, 0)\n",
    "cv2.imshow(\"Vertically flip image\", vertical_flip_img)\n",
    "cv2.waitKey(0)\n",
    "cv2.destroyAllWindows()"
   ]
  },
  {
   "cell_type": "code",
   "execution_count": 55,
   "id": "da7f8e8d",
   "metadata": {},
   "outputs": [],
   "source": [
    "# Horizontally flip\n",
    "horizontal_flip_img = cv2.flip(half_resize_img, 1)\n",
    "cv2.imshow(\"Horizontally flip image\", horizontal_flip_img)\n",
    "cv2.waitKey(0)\n",
    "cv2.destroyAllWindows()"
   ]
  },
  {
   "cell_type": "code",
   "execution_count": 57,
   "id": "c632e3c2",
   "metadata": {},
   "outputs": [],
   "source": [
    "# Both Vertically and Horizontally Flip\n",
    "vertical_horizonatl_flip = cv2.flip(half_resize_img, -1)\n",
    "cv2.imshow(\"Both vertical and horizontal flip\", vertical_horizonatl_flip)\n",
    "cv2.waitKey(0)\n",
    "cv2.destroyAllWindows()"
   ]
  },
  {
   "cell_type": "markdown",
   "id": "9b34a0dc",
   "metadata": {},
   "source": [
    "###### Image Croping"
   ]
  },
  {
   "cell_type": "code",
   "execution_count": 80,
   "id": "6812efa9",
   "metadata": {},
   "outputs": [],
   "source": [
    "# img[y1:y2, x1:x2]\n",
    "img_crop = img[300:600, 900:1200]"
   ]
  },
  {
   "cell_type": "code",
   "execution_count": 81,
   "id": "311c01bf",
   "metadata": {},
   "outputs": [],
   "source": [
    "cv2.imshow(\"Cropping Image\", img_crop)\n",
    "cv2.waitKey(0)\n",
    "cv2.destroyAllWindows()"
   ]
  },
  {
   "cell_type": "code",
   "execution_count": 58,
   "id": "ba038138",
   "metadata": {},
   "outputs": [
    {
     "data": {
      "text/plain": [
       "(720, 1280, 3)"
      ]
     },
     "execution_count": 58,
     "metadata": {},
     "output_type": "execute_result"
    }
   ],
   "source": [
    "img.shape"
   ]
  },
  {
   "cell_type": "markdown",
   "id": "8b0a1761",
   "metadata": {},
   "source": [
    "##### Drawing Different shape on image"
   ]
  },
  {
   "cell_type": "code",
   "execution_count": 143,
   "id": "474cc9ee",
   "metadata": {},
   "outputs": [],
   "source": [
    "# Draw a ractangle\n",
    "img = cv2.imread(\"image1.jpg\")\n",
    "cv2.rectangle(img, pt1=(1010,320), pt2=(1180, 490), color=(255, 255, 234), thickness=2)\n",
    "cv2.imshow(\"Ractangle On Image\", img)\n",
    "cv2.waitKey(0)\n",
    "cv2.destroyAllWindows()"
   ]
  },
  {
   "cell_type": "code",
   "execution_count": 154,
   "id": "22f8b60f",
   "metadata": {},
   "outputs": [],
   "source": [
    "# Draw a circle\n",
    "img = cv2.imread(\"image1.jpg\")\n",
    "cv2.circle(img, center=(190, 430), radius=80, color=(255, 255, 234), thickness=2)\n",
    "cv2.imshow(\"Circle on Image\", img)\n",
    "cv2.waitKey(0)\n",
    "cv2.destroyAllWindows()"
   ]
  },
  {
   "cell_type": "code",
   "execution_count": null,
   "id": "2fe279b3",
   "metadata": {},
   "outputs": [],
   "source": [
    "# Draw a Line\n",
    "img = cv2.imread(\"image1.jpg\")\n",
    "cv2.line(img, pt1=(200, 200), pt2=(400, 300), color=(255, 255, 234), thickness=2)\n",
    "cv2.imshow(\"Line on Image\", img)\n",
    "cv2.waitKey(0)\n",
    "cv2.destroyAllWindows()"
   ]
  },
  {
   "cell_type": "code",
   "execution_count": null,
   "id": "d8a136cb",
   "metadata": {},
   "outputs": [],
   "source": []
  },
  {
   "cell_type": "code",
   "execution_count": null,
   "id": "1b7fe897",
   "metadata": {},
   "outputs": [],
   "source": []
  },
  {
   "cell_type": "code",
   "execution_count": null,
   "id": "ed7cb762",
   "metadata": {},
   "outputs": [],
   "source": []
  },
  {
   "cell_type": "code",
   "execution_count": null,
   "id": "5481e51f",
   "metadata": {},
   "outputs": [],
   "source": []
  },
  {
   "cell_type": "code",
   "execution_count": null,
   "id": "89b1fbc9",
   "metadata": {},
   "outputs": [],
   "source": []
  },
  {
   "cell_type": "code",
   "execution_count": 130,
   "id": "ba9d1fd7",
   "metadata": {},
   "outputs": [],
   "source": [
    "img1 = cv2.imread('color_mixer.PNG', cv2.IMREAD_UNCHANGED)"
   ]
  },
  {
   "cell_type": "code",
   "execution_count": 131,
   "id": "b88dd550",
   "metadata": {},
   "outputs": [
    {
     "data": {
      "text/plain": [
       "(411, 444, 4)"
      ]
     },
     "execution_count": 131,
     "metadata": {},
     "output_type": "execute_result"
    }
   ],
   "source": [
    "img1.shape"
   ]
  },
  {
   "cell_type": "code",
   "execution_count": null,
   "id": "65e5f953",
   "metadata": {},
   "outputs": [],
   "source": []
  },
  {
   "cell_type": "code",
   "execution_count": null,
   "id": "ef7c710a",
   "metadata": {},
   "outputs": [],
   "source": []
  },
  {
   "cell_type": "code",
   "execution_count": null,
   "id": "4291e89c",
   "metadata": {},
   "outputs": [],
   "source": []
  },
  {
   "cell_type": "code",
   "execution_count": null,
   "id": "545c03ae",
   "metadata": {},
   "outputs": [],
   "source": []
  },
  {
   "cell_type": "code",
   "execution_count": null,
   "id": "82ed8c50",
   "metadata": {},
   "outputs": [],
   "source": []
  },
  {
   "cell_type": "code",
   "execution_count": null,
   "id": "847f09a9",
   "metadata": {},
   "outputs": [],
   "source": []
  }
 ],
 "metadata": {
  "kernelspec": {
   "display_name": "Python 3",
   "language": "python",
   "name": "python3"
  },
  "language_info": {
   "codemirror_mode": {
    "name": "ipython",
    "version": 3
   },
   "file_extension": ".py",
   "mimetype": "text/x-python",
   "name": "python",
   "nbconvert_exporter": "python",
   "pygments_lexer": "ipython3",
   "version": "3.8.8"
  }
 },
 "nbformat": 4,
 "nbformat_minor": 5
}
