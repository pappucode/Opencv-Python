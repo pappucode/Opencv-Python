{
 "cells": [
  {
   "cell_type": "code",
   "execution_count": 2,
   "id": "d33ac3e8",
   "metadata": {},
   "outputs": [],
   "source": [
    "# Import OpenCV\n",
    "import cv2\n",
    "import time\n",
    "import numpy as np"
   ]
  },
  {
   "cell_type": "markdown",
   "id": "a19f274f",
   "metadata": {},
   "source": [
    "###### Read the imagem"
   ]
  },
  {
   "cell_type": "code",
   "execution_count": 2,
   "id": "2996f94d",
   "metadata": {},
   "outputs": [],
   "source": [
    "img = cv2.imread('image1.jpg')"
   ]
  },
  {
   "cell_type": "code",
   "execution_count": 3,
   "id": "40ac291d",
   "metadata": {},
   "outputs": [
    {
     "data": {
      "text/plain": [
       "(720, 1280, 3)"
      ]
     },
     "execution_count": 3,
     "metadata": {},
     "output_type": "execute_result"
    }
   ],
   "source": [
    "img.shape"
   ]
  },
  {
   "cell_type": "code",
   "execution_count": 4,
   "id": "94d857cd",
   "metadata": {},
   "outputs": [],
   "source": [
    "cv2.imshow('Image', img)\n",
    "\n",
    "# Waitkey Display an Image for Specific Time. If provide 0 in as an argument the image will be displayed as long \n",
    "# as we want. The window will be closed after any key is pressed.\n",
    "cv2.waitKey(0) \n",
    "cv2.destroyAllWindows()"
   ]
  },
  {
   "cell_type": "code",
   "execution_count": 5,
   "id": "14697547",
   "metadata": {},
   "outputs": [
    {
     "name": "stdout",
     "output_type": "stream",
     "text": [
      "The window is closed after 1.7449429035186768\n"
     ]
    }
   ],
   "source": [
    "cv2.imshow('Image', img)\n",
    "# To display the image for 3 second we have t0 pass 3000 as argument. \n",
    "initial_time = time.time()\n",
    "cv2.waitKey(3000) \n",
    "final_time = time.time()\n",
    "print(\"The window is closed after\", final_time-initial_time)\n",
    "cv2.destroyAllWindows()"
   ]
  },
  {
   "cell_type": "code",
   "execution_count": 6,
   "id": "da1238d8",
   "metadata": {},
   "outputs": [],
   "source": [
    "cv2.imshow('Image', img)\n",
    "cv2.waitKey(0)\n",
    "cv2.destroyAllWindows()"
   ]
  },
  {
   "cell_type": "markdown",
   "id": "43766205",
   "metadata": {},
   "source": [
    "##### Image color changing \n"
   ]
  },
  {
   "cell_type": "code",
   "execution_count": 7,
   "id": "233cda83",
   "metadata": {},
   "outputs": [],
   "source": [
    "# Convert image to grayscale\n",
    "img_gray = cv2.cvtColor(img, cv2.COLOR_BGR2GRAY)\n",
    "cv2.imshow('Gray Image', img_gray)\n",
    "cv2.waitKey(0)\n",
    "cv2.destroyAllWindows()"
   ]
  },
  {
   "cell_type": "code",
   "execution_count": 8,
   "id": "2ab1ae69",
   "metadata": {},
   "outputs": [
    {
     "data": {
      "text/plain": [
       "((720, 1280, 3), (720, 1280))"
      ]
     },
     "execution_count": 8,
     "metadata": {},
     "output_type": "execute_result"
    }
   ],
   "source": [
    "# Difference between original image and grayscale image\n",
    "img.shape, img_gray.shape"
   ]
  },
  {
   "cell_type": "markdown",
   "id": "f68f8bb1",
   "metadata": {},
   "source": [
    "There is no color chanel in grayscale image"
   ]
  },
  {
   "cell_type": "markdown",
   "id": "61eaba71",
   "metadata": {},
   "source": [
    "###### Playing with rgb Images"
   ]
  },
  {
   "cell_type": "code",
   "execution_count": 66,
   "id": "5413238d",
   "metadata": {},
   "outputs": [],
   "source": [
    "# Indexing of RGB image\n",
    "# 0 Blue\n",
    "# 1 Green\n",
    "# 2 Red\n",
    "# Cobbinition of rgb image height:width:channel"
   ]
  },
  {
   "cell_type": "markdown",
   "id": "4ab9979f",
   "metadata": {},
   "source": [
    "<img style=\"float: left; width: 300px;\" src=\"color_mixer.png\">"
   ]
  },
  {
   "cell_type": "code",
   "execution_count": 9,
   "id": "b2bce509",
   "metadata": {},
   "outputs": [],
   "source": [
    "# if we assign zero on blue we will get yellow color image\n",
    "img = cv2.imread('image1.jpg')\n",
    "img[:, :, 0] = 0"
   ]
  },
  {
   "cell_type": "code",
   "execution_count": 10,
   "id": "1299d0a6",
   "metadata": {},
   "outputs": [],
   "source": [
    "# if we assign zero on green we will get megenta color image\n",
    "img = cv2.imread('image1.jpg')\n",
    "img[:, :, 1] = 0"
   ]
  },
  {
   "cell_type": "code",
   "execution_count": 11,
   "id": "a1f8ae81",
   "metadata": {},
   "outputs": [],
   "source": [
    "# if we assign zero on red we will get cyan color image\n",
    "img = cv2.imread('image1.jpg')\n",
    "img[:, :, 2] = 0"
   ]
  },
  {
   "cell_type": "code",
   "execution_count": 12,
   "id": "4e13e870",
   "metadata": {},
   "outputs": [],
   "source": [
    "cv2.imshow('Image', img)\n",
    "cv2.waitKey(0)\n",
    "cv2.destroyAllWindows()"
   ]
  },
  {
   "cell_type": "markdown",
   "id": "90d52c94",
   "metadata": {},
   "source": [
    "##### Image resizing"
   ]
  },
  {
   "cell_type": "code",
   "execution_count": 63,
   "id": "69f53960",
   "metadata": {},
   "outputs": [],
   "source": [
    "img = cv2.imread('image1.jpg')"
   ]
  },
  {
   "cell_type": "code",
   "execution_count": 64,
   "id": "b91ecce8",
   "metadata": {},
   "outputs": [],
   "source": [
    "resize_img = cv2.resize(img, (400, 400))\n",
    "cv2.imshow('Resized Image', resize_img)\n",
    "cv2.waitKey(0)\n",
    "cv2.destroyAllWindows()"
   ]
  },
  {
   "cell_type": "code",
   "execution_count": 65,
   "id": "2d017ffe",
   "metadata": {},
   "outputs": [],
   "source": [
    "# Show the image of specific color with resized image\n",
    "img_blue = resize_img[:, :, 0]\n",
    "img_green = resize_img[:, :, 1]\n",
    "img_red = resize_img[:, :, 2]\n",
    "img_combine = np.hstack((img_blue, img_green, img_red))"
   ]
  },
  {
   "cell_type": "code",
   "execution_count": 68,
   "id": "70c308fa",
   "metadata": {},
   "outputs": [],
   "source": [
    "cv2.imshow(\"Combined Image\", img_combine)\n",
    "cv2.waitKey(0)\n",
    "cv2.destroyAllWindows()"
   ]
  },
  {
   "cell_type": "code",
   "execution_count": 71,
   "id": "b74546c2",
   "metadata": {},
   "outputs": [],
   "source": [
    "# Now resize the image to half\n",
    "# img.shape[0] = Height\n",
    "# img.shape[1] = width\n",
    "# img.shape[2] = dimension\n",
    "half_resize_img = cv2.resize(img, (img.shape[1]//2, img.shape[0]//2))"
   ]
  },
  {
   "cell_type": "code",
   "execution_count": 75,
   "id": "3ca4aec0",
   "metadata": {},
   "outputs": [],
   "source": [
    "cv2.imshow(\"Half sized Image\", half_resize_img)\n",
    "cv2.waitKey(0)\n",
    "cv2.destroyAllWindows()"
   ]
  },
  {
   "cell_type": "code",
   "execution_count": 73,
   "id": "95fc965f",
   "metadata": {},
   "outputs": [
    {
     "data": {
      "text/plain": [
       "(360, 640, 3)"
      ]
     },
     "execution_count": 73,
     "metadata": {},
     "output_type": "execute_result"
    }
   ],
   "source": [
    "half_resize_img.shape"
   ]
  },
  {
   "cell_type": "code",
   "execution_count": 74,
   "id": "32421c77",
   "metadata": {},
   "outputs": [
    {
     "data": {
      "text/plain": [
       "(720, 1280, 3)"
      ]
     },
     "execution_count": 74,
     "metadata": {},
     "output_type": "execute_result"
    }
   ],
   "source": [
    "img.shape"
   ]
  },
  {
   "cell_type": "code",
   "execution_count": null,
   "id": "76db3546",
   "metadata": {},
   "outputs": [],
   "source": []
  },
  {
   "cell_type": "code",
   "execution_count": null,
   "id": "11278c13",
   "metadata": {},
   "outputs": [],
   "source": []
  },
  {
   "cell_type": "code",
   "execution_count": null,
   "id": "ea4f5d62",
   "metadata": {},
   "outputs": [],
   "source": []
  },
  {
   "cell_type": "code",
   "execution_count": 130,
   "id": "2106be11",
   "metadata": {},
   "outputs": [],
   "source": [
    "img1 = cv2.imread('color_mixer.PNG', cv2.IMREAD_UNCHANGED)"
   ]
  },
  {
   "cell_type": "code",
   "execution_count": 131,
   "id": "5d9562c9",
   "metadata": {},
   "outputs": [
    {
     "data": {
      "text/plain": [
       "(411, 444, 4)"
      ]
     },
     "execution_count": 131,
     "metadata": {},
     "output_type": "execute_result"
    }
   ],
   "source": [
    "img1.shape"
   ]
  },
  {
   "cell_type": "code",
   "execution_count": null,
   "id": "a314f384",
   "metadata": {},
   "outputs": [],
   "source": []
  },
  {
   "cell_type": "code",
   "execution_count": null,
   "id": "694e288e",
   "metadata": {},
   "outputs": [],
   "source": []
  },
  {
   "cell_type": "code",
   "execution_count": null,
   "id": "b74091d0",
   "metadata": {},
   "outputs": [],
   "source": []
  },
  {
   "cell_type": "code",
   "execution_count": null,
   "id": "afc70e8d",
   "metadata": {},
   "outputs": [],
   "source": []
  },
  {
   "cell_type": "code",
   "execution_count": null,
   "id": "90ea3dda",
   "metadata": {},
   "outputs": [],
   "source": []
  },
  {
   "cell_type": "code",
   "execution_count": null,
   "id": "2f463a6e",
   "metadata": {},
   "outputs": [],
   "source": []
  }
 ],
 "metadata": {
  "kernelspec": {
   "display_name": "Python 3",
   "language": "python",
   "name": "python3"
  },
  "language_info": {
   "codemirror_mode": {
    "name": "ipython",
    "version": 3
   },
   "file_extension": ".py",
   "mimetype": "text/x-python",
   "name": "python",
   "nbconvert_exporter": "python",
   "pygments_lexer": "ipython3",
   "version": "3.8.8"
  }
 },
 "nbformat": 4,
 "nbformat_minor": 5
}
